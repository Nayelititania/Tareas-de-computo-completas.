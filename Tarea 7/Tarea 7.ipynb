{
  "cells": [
    {
      "cell_type": "markdown",
      "metadata": {
        "id": "pV6tVCYMMp8Z"
      },
      "source": [
        "# Tarea 7: Revisión de los conceptos básicos de Python\n",
        "### Computación - 8108\n",
        "#### Facultad de Ciencias - UNAM\n",
        "#### Profesores: C. Fís. Omar Trejo, C. Fís. Iván Jiménez, Pedro Flores-Silva\n",
        "\n",
        "Instrucciones: Este notebook contiene una serie de ejercicios que deben ser resueltos. Cada ejercicio se encuentra en una celda, ya sea de código o Markdown. Debes crear una o dos *celdas debajo de cada ejercicio* con tu(s) respectiva(s) respuestas. No modifiques las celdas originales.\n",
        "Recuerda que para ejecutar el código de una celda, presionar `Ctlr + Enter` o bien el boton de `play` en el editor Jupyter notebook.\n",
        "\n",
        "Cada ejercicio tendrá diferente valor, y se indicará en la celda de éste. La calificación final será la suma de los puntos obtenidos en cada ejercicio. Se calificará considerando la calidad de la respuesta, la claridad de la explicación y la correctitud del código. Por ejemplo, si el código no ejecuta la respuesta correcta pero se da una idea textual, se demuestra que hay comprensión del problema y el código hace sentido para el revisor, se otorgará una calificación parcial. Esto es, las respuestas no solo se evaluarán como bien o mal, sino que se considerará el esfuerzo. \n",
        "\n",
        "El codigo que realices debes comentarlo donde creas necesario, no vale no hacer ningún comentario. Recuerda que los comentarios son importantes para que el código sea legible y entendible, éstos se agregan con el símbolo # ."
      ]
    },
    {
      "cell_type": "markdown",
      "metadata": {
        "id": "UOEG9qY-Mp8c"
      },
      "source": [
        "### Ejercicio 1 (1 punto):\n",
        "En una celda Markdown contesta: ¿Qué es un nombre reservado en python? Enlista 5 ejemplos de nombres reservados en python y describe su función (aquí debes investigar su función si es que aún no hemos tratado dicho nombre reservado)."
      ]
    },
    {
      "cell_type": "markdown",
      "source": [
        "¿Que es el nombre reservado en python?\n",
        "\n",
        "R= Son aquellas palabras que pertenecen al lenguage de programación, es decir son palabras que nos ayudan a realizar ciertas tareas en Python. \n",
        "\n",
        "1.  **Return:** Se utiliza dentro de una función para salir y devolver un valor.\n",
        "\n",
        "2. .**Yield:** Al igual que Return este se utiliza dentro de una función para salir, pero este devuelve un generador \n",
        "\n",
        "3. **is:** Se usa para probar si las dos variariables se refieren al mismo objeto, por lo tanto va devolver True si los objestos son identicos y false si no son identicos.\n",
        "\n",
        "4. **def:** Se utiliza para definir o crear una función.\n",
        "\n",
        "5. **in:** Se usa para comprobar si un valor está presente en una lista, tupla, etc. por lo tanto va a devolver True si el valor pertenese y false si no esta presente. \n",
        "\n",
        "\n"
      ],
      "metadata": {
        "id": "Z6bKnhdORkIx"
      }
    },
    {
      "cell_type": "code",
      "source": [
        "\"\"\"¿Que es el nombre reservado en python?\n",
        "\n",
        "R= Son aquellas palabras que pertenecen al lenguage de programación, es decir son palabras que nos ayudan a realizar ciertas tareas en Python.\n",
        "\n",
        "Return: Se utiliza dentro de una función para salir y devolver un valor.\n",
        "\n",
        "1. Yield: Al igual que Return este se utiliza dentro de una función para salir, pero este devuelve un generador\n",
        "\n",
        "2. is: Se usa para probar si las dos variariables se refieren al mismo objeto, por lo tanto va devolver True si los objestos son identicos y false si no son identicos.\n",
        "\n",
        "3. def: Se utiliza para definir o crear una función.\n",
        "\n",
        "4. in: Se usa para comprobar si un valor está presente en una lista, tupla, etc. por lo tanto va a devolver True si el valor pertenese y false si no esta presente.\"\"\""
      ],
      "metadata": {
        "id": "yZIH0QVyjaRp"
      },
      "execution_count": null,
      "outputs": []
    },
    {
      "cell_type": "markdown",
      "metadata": {
        "id": "TVUEuxGoMp8d"
      },
      "source": [
        "### Ejercicio 2 (1 punto):\n",
        "En una celda Markdown: Coloca tres ejemplos de nombres de variables que no son válidos en python. Explica por qué no son válidos."
      ]
    },
    {
      "cell_type": "code",
      "source": [
        "class = 10 # Este nombre de la variables es invalida por que es una palabra reservada de Python por lo cual ya tiene una tarea especifica en Pyton la cual es definir una clase, que es una estructura de datos que agrupa un conjunto de funciones y variables.\n",
        "45holis = 14 # Este nombre de la variables es invalida por que empieza con un numero.\n",
        "Dine ro = \"Dolares\" #Este nombre no es valido por tiene espacios en blanco."
      ],
      "metadata": {
        "id": "UclsFuW69l-w"
      },
      "execution_count": null,
      "outputs": []
    },
    {
      "cell_type": "markdown",
      "metadata": {
        "id": "kBxhe6-_Mp8d"
      },
      "source": [
        "### Ejercicio 3 (3 puntos):\n",
        "Considera el siguiente polinomio: $f(x) = 10x^2 - 2x$. \n",
        "\n",
        "En una celda Markdown escribe:\n",
        "* Los pasos para encontrar sus raíces a través del método del despeje.\n",
        "* Los pasos para encontrar sus raíces a través del método de la chicharronera.\n",
        "\n",
        "En una celda de código, escribe un programa que compruebe que las raíces del polinomio $f(x) = 10x^2 - 2x$ que tu encontraste son correctas. El programa debe imprimir las raíces en la pantalla. (Debes usar la ecuación que obtuviste al depejar el polinomio).\n",
        "\n",
        "En otra celda de código, escribe un programa que encuentre las raíces del polinomio $f(x) = 10x^2 - 2x$ a través del método de la chicharronera. El programa debe imprimir las raíces en la pantalla. (Debes usar la chicharronera).\n",
        "\n",
        "Considera los signos de la chicharronera como dos operaciones diferentes: $(-)$ y $(+)$."
      ]
    },
    {
      "cell_type": "code",
      "source": [
        "#Defino una variable para poder realizar mi programa fácilmente.\n",
        "a=0\n",
        "\n",
        "def Comprobar(valor):\n",
        "    x = valor\n",
        "    #El valor introducido será evaluado en esta operación, cuyo valor será asignado a la variable \"y\".\n",
        "    y = x*(5*(x)-1)\n",
        "    if (y==a):\n",
        "        #Si \"y\" satisface la igualdad a cero, entonces se da el mensaje \"Valor. Sí es raiz\".\n",
        "        print (x, \"Sí es raíz\")\n",
        "    else:\n",
        "        #Si \"y\" no satisface la igualdad a cero, entonces se da el mensaje \"Valor. No es raíz\".\n",
        "        print (x, \"No es raíz\")\n",
        "\n",
        "#Ahora se comprueban los raices previamente obtenidas para comprobar su fiabilidad.\n",
        "Comprobar(0)\n",
        "Comprobar(1/5)"
      ],
      "metadata": {
        "colab": {
          "base_uri": "https://localhost:8080/"
        },
        "id": "ks2T91suj_hw",
        "outputId": "c67436e6-e06f-4c08-8f51-e0c5334e0651"
      },
      "execution_count": 12,
      "outputs": [
        {
          "output_type": "stream",
          "name": "stdout",
          "text": [
            "0 Sí es raíz\n",
            "0.2 Sí es raíz\n"
          ]
        }
      ]
    },
    {
      "cell_type": "code",
      "source": [
        "def Chicharronera(a,b,c):\n",
        "#Se traspasa dos veces la fórmula general a código, una con la posibilidad positiva de la operación, y la otra con la negativa.\n",
        "    x1 = (-b+((b**2-(4*a*c))**(1/2)))/(2*a)\n",
        "    #A la posibilidad positiva de la fórmula se le asigna el valor x1.\n",
        "    x2 = (-b-((b**2-(4*a*c))**(1/2)))/(2*a)\n",
        "    #A la posibilidad negativa de la fórmula se le asigna el valor x2.\n",
        "    \n",
        "    #Se imprime \"Las raices son x1, x2\".\n",
        "    print(\"Las raicez son: {} y {}\".format(x1,x2))\n",
        "\n",
        "#Ahora se resuelve el polinomio original la chicharronera, dando como resultado\n",
        "Chicharronera(10,-2,0)"
      ],
      "metadata": {
        "id": "gXunilZbkIM9"
      },
      "execution_count": null,
      "outputs": []
    },
    {
      "cell_type": "markdown",
      "metadata": {
        "id": "6WKyHo2hMp8d"
      },
      "source": [
        "### Ejercicio 4 (3 puntos):\n",
        "Caida libre: El gran Galileo Galilei subió la torre de Pisa para determinar el tiempo que tarda un objeto en caer desde una altura $H$ al suelo. Para ello, colocó un objeto de masa $m=100$ kg en la torre y lo dejó caer. El tiempo que tardó en caer fue $t=0.05616667$ minutos.\n",
        "\n",
        "Considerando que la aceleración de la gravedad es $g=9.8$ $\\frac{m}{s^2}$, escribe un programa que determine la altura de la torre de Pisa. El programa debe imprimir la altura en la pantalla.\n",
        "\n",
        "Recuerda que el movimiento de caída libre simplificado cumple la ecuación: $y(t) = H + vt - \\frac{1}{2}gt^2$.\n"
      ]
    },
    {
      "cell_type": "code",
      "source": [
        "def Altura_en_MUA_sin_friccion(t,v,y):\n",
        "    #Se establece el valor de la aceleración gravitatoria.\n",
        "    g = 9.8\n",
        "    #Se da la formula despejada para la altura inicial cn MUA (sin fricción), y se le asigna el valor a \"H\".\n",
        "    H = y-(v*t)+((1/2)*g*(t**2))\n",
        "    #Se imprime \"La altura, en metros, es H\"\n",
        "    print (\"La altura en metros es\", H)\n",
        "\n",
        "#Ahora se calcula el tiempo en segundos, y una vez obtenido se introduce en la función definida para así dar la altura.\n",
        "tm = 0.05616667\n",
        "s = tm*60\n",
        "Altura_en_MUA_sin_friccion(s,0,0)\n"
      ],
      "metadata": {
        "colab": {
          "base_uri": "https://localhost:8080/"
        },
        "id": "i4LFt95gdcRE",
        "outputId": "29895dea-4552-4a6b-e906-6bf27921c400"
      },
      "execution_count": 11,
      "outputs": [
        {
          "output_type": "stream",
          "name": "stdout",
          "text": [
            "La altura en metros es 55.64881660520021\n"
          ]
        }
      ]
    },
    {
      "cell_type": "markdown",
      "metadata": {
        "id": "M6uD2IY9Mp8e"
      },
      "source": [
        "### Ejercicio 5 (2 puntos):\n",
        "Considera una lista de números enteros del 0 al 99 : `lista = [0,1, 2, 3, 4, ... , 95, 96, 97, 98, 99]`.\n",
        "En una celda de código, escribe un programa que imprima en la pantalla una la lista que cumpla con las siguientes condiciones:\n",
        "* Los ultimos 10 elementos: debe imprimir lo siguiente `[90, 91, 92, 93, 94, 95, 96, 97, 98, 99]`.\n",
        "* Los primeros 11 elementos: debe imprimir lo siguiente `[0, 1, 2, 3, 4, 5, 6, 7, 8, 9, 10]`.\n",
        "* La serie de elementos de la lista que están entre 60 y 75: debe imprimir lo siguiente `[60, 61, 62, 63, 64, 65, 66, 67, 68, 69, 70, 71, 72, 73, 74, 75]`.\n",
        "* El número 50: debe imprimir lo siguiente `50`.\n",
        "\n",
        "Debes aplicar el concepto de *slicing* para resolver este ejercicio (notación de puntos `[:]`).\n",
        "\n",
        "Puntos menos si se crean listas nuevas para cada caso y/o se seleccionan manualmente los valores.\n",
        "\n",
        "El código de abajo te ayudará a crear la lista del 0 al 99."
      ]
    },
    {
      "cell_type": "code",
      "execution_count": null,
      "metadata": {
        "id": "Pk67VJs8Mp8e"
      },
      "outputs": [],
      "source": [
        "lista = list(range(100))"
      ]
    },
    {
      "cell_type": "code",
      "source": [
        "\n",
        "#Establecemos una lista auxiliar que va a tener 100 elementos\n",
        "lista = list(range(100))\n",
        "#Posteriormente se establece una otra lista que va a tener los intervalos requeridos.\n",
        "lista_2 = lista[0:11]+lista[50:51]+lista[60:76]+lista[90:100]\n",
        "#Se imprimen los valores lista_2.\n",
        "print (lista_2[-10:])\n",
        "print (lista_2[:11])\n",
        "print (lista_2[12:-10])\n",
        "print (lista_2[11])"
      ],
      "metadata": {
        "colab": {
          "base_uri": "https://localhost:8080/"
        },
        "id": "T_fJkgHTdray",
        "outputId": "2e3238f2-db4f-4d2a-f28c-a1a1cd3a67e4"
      },
      "execution_count": 9,
      "outputs": [
        {
          "output_type": "stream",
          "name": "stdout",
          "text": [
            "[90, 91, 92, 93, 94, 95, 96, 97, 98, 99]\n",
            "[0, 1, 2, 3, 4, 5, 6, 7, 8, 9, 10]\n",
            "[60, 61, 62, 63, 64, 65, 66, 67, 68, 69, 70, 71, 72, 73, 74, 75]\n",
            "50\n"
          ]
        }
      ]
    },
    {
      "cell_type": "markdown",
      "metadata": {
        "id": "b3oSL9IdMp8f"
      },
      "source": [
        "### Puntos extras, este ejercicio es opcional (5 puntos):\n",
        "Replica el código visto en clase para simular los volados. Discute los resultados obtenidos. ¿Qué observas? ¿Qué puedes concluir? ¿Qué pasa cuando la cantidad de volados es muy pequeña? ¿Qué pasa cuando la cantidad de volados es muy grande?\n",
        "\n",
        "En caso de errores con librerias no encontradas, debes hacer en una celda de código lo siguiente:\n",
        "\n",
        "`!pip install nombre_de_la_libreria`. Por ejemplo para plotly: `!pip install plotly`."
      ]
    },
    {
      "cell_type": "code",
      "execution_count": null,
      "metadata": {
        "id": "cCwSOx7iMp8f",
        "outputId": "0319929b-1a4e-49fb-9075-e512636b843e"
      },
      "outputs": [
        {
          "name": "stdout",
          "output_type": "stream",
          "text": [
            "Defaulting to user installation because normal site-packages is not writeable\n",
            "Requirement already satisfied: plotly in c:\\programdata\\anaconda3\\lib\\site-packages (5.9.0)\n",
            "Requirement already satisfied: tenacity>=6.2.0 in c:\\programdata\\anaconda3\\lib\\site-packages (from plotly) (8.0.1)\n"
          ]
        }
      ],
      "source": [
        "!pip install plotly"
      ]
    },
    {
      "cell_type": "code",
      "source": [
        "import pandas as pd\n",
        "import numpy as np\n",
        "from matplotlib import pyplot as plt\n",
        "import plotly. express as px"
      ],
      "metadata": {
        "id": "dQaXXdEMVKCj"
      },
      "execution_count": 1,
      "outputs": []
    },
    {
      "cell_type": "markdown",
      "source": [
        "Se va a simular el proceso de  mil volados primeramente posteriormente iremos reduciendo los volados para observar el comportamiento."
      ],
      "metadata": {
        "id": "Yh7NENVAXF1u"
      }
    },
    {
      "cell_type": "code",
      "source": [
        "#Paso 1: tira mil veces una moneda(selecciona un valor aleatoriamente de entre dos posibles resultados)\n",
        "resultados_de_volados= np.random.randint(low=0, high=2, size=30000)\n",
        "#Paso 2: convierte el resultado a una forma tabular\n",
        "resultados_tabla = pd.DataFrame(resultados_de_volados, columns=['Resultados'])\n",
        "#Paso 3: formatea los resultados a algo mas legible\n",
        "resultados_tabla.Resultados.replace({0:'Aguila', 1:'Sol'}, inplace=True)"
      ],
      "metadata": {
        "id": "o-c6dcWzW7rr"
      },
      "execution_count": 3,
      "outputs": []
    },
    {
      "cell_type": "code",
      "source": [
        "#Se gráfica el histograma especificando los valores requeridos, y personalizando los datos.\n",
        "fig = px.histogram(resultados_tabla, text_auto=True, labels={\n",
        "                        \"value\": \"Resultados\",\n",
        "                        \"count\": \"Frecuencia\"}, template=\"plotly_white\")\n",
        "\n",
        "fig.update_layout(\n",
        "    title=\"Simulación de tirar X volados\",\n",
        "    xaxis_title=\"Frecuencia\",\n",
        "    yaxis_title=\"Resultado\"\n",
        "    )"
      ],
      "metadata": {
        "id": "Uht-CVp2fgAs"
      },
      "execution_count": null,
      "outputs": []
    },
    {
      "cell_type": "code",
      "source": [
        "#¿Qué puedes concluir? \n",
        " \"Antes de corer el programa podemos suponer que la probavilidad de que te salga  aguila y sol es  de 50% y 50% y al correr nuestro programa con una cantidad grande de volados salia casi 50% aguila y casi 50% de sol,\n",
        " \"pero al reducir esa cantidad volados los porsentajes eran diferentes¨\n",
        " #¿Qué pasa cuando la cantidad de volados es muy pequeña?\n",
        " \"Hay mas probabilidad de que salga aguila casi 50%  de los volados y de sol casi 50% de  los volados \"\n",
        " #¿Qué pasa cuando la cantidad de volados es muy grande?\n",
        " \"Hay menos probabilidad de que te salga  aguila 50% de los volados y sol pasa lo mismo 50%, por lo tanto existe una variacion ya se pequeña o grande con respetos a los tiros \""
      ],
      "metadata": {
        "id": "yVQZq1BZfoBL"
      },
      "execution_count": null,
      "outputs": []
    }
  ],
  "metadata": {
    "kernelspec": {
      "display_name": "Python 3.9.13 ('base')",
      "language": "python",
      "name": "python3"
    },
    "language_info": {
      "codemirror_mode": {
        "name": "ipython",
        "version": 3
      },
      "file_extension": ".py",
      "mimetype": "text/x-python",
      "name": "python",
      "nbconvert_exporter": "python",
      "pygments_lexer": "ipython3",
      "version": "3.9.13"
    },
    "orig_nbformat": 4,
    "vscode": {
      "interpreter": {
        "hash": "ad2bdc8ecc057115af97d19610ffacc2b4e99fae6737bb82f5d7fb13d2f2c186"
      }
    },
    "colab": {
      "provenance": []
    }
  },
  "nbformat": 4,
  "nbformat_minor": 0
}