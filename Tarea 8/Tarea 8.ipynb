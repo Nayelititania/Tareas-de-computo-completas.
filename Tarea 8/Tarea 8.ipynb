{
  "cells": [
    {
      "cell_type": "markdown",
      "metadata": {
        "id": "VZSNCg6BpLam"
      },
      "source": [
        "# Tarea 8: Más listas y ciclos for\n",
        "### Computación - 8108\n",
        "#### Facultad de Ciencias - UNAM\n",
        "#### Profesores: C. Fís. Omar Trejo, C. Fís. Iván Jiménez, Pedro Flores-Silva\n",
        "\n",
        "Instrucciones: Este notebook contiene una serie de ejercicios que deben ser resueltos. Cada ejercicio se encuentra en una celda, ya sea de código o Markdown. Debes crear una o dos *celdas debajo de cada ejercicio* con tu(s) respectiva(s) respuestas. No modifiques las celdas originales.\n",
        "Recuerda que para ejecutar el código de una celda, presionar `Ctlr + Enter` o bien el boton de `play` en el editor Jupyter notebook.\n",
        "\n",
        "Cada ejercicio tendrá diferente valor, y se indicará en la celda de éste. La calificación final será la suma de los puntos obtenidos en cada ejercicio. Se calificará considerando la calidad de la respuesta, la claridad de la explicación y la correctitud del código. Por ejemplo, si el código no ejecuta la respuesta correcta pero se da una idea textual, se demuestra que hay comprensión del problema y el código hace sentido para el revisor, se otorgará una calificación parcial. Esto es, las respuestas no solo se evaluarán como bien o mal, sino que se considerará el esfuerzo. \n",
        "\n",
        "El codigo que realices debes comentarlo donde creas necesario, no vale no hacer ningún comentario. Recuerda que los comentarios son importantes para que el código sea legible y entendible, éstos se agregan con el símbolo # ."
      ]
    },
    {
      "cell_type": "markdown",
      "metadata": {
        "id": "dI88N-jVpLat"
      },
      "source": [
        "### Ejercicio 1 (1 punto):\n",
        "Considera la siguiente lista de números: `lista = [1, 2, 2, 2, 465, 465, 787, 788, 99, \"mundo\", \"hola mundo\", \"adios mundo\", \"hola mundo\"]`. A partir de la lista crea otra lista que contenga los elementos únicos e imprimela.\n",
        "\n",
        "No vale crear la lista manualmente, debes hacerlo con código.\n",
        "\n",
        "El resultado debe ser: `[1, 2, 99, 'mundo', 'hola mundo', 465, 787, 788, 'adios mundo']`"
      ]
    },
    {
      "cell_type": "code",
      "source": [
        "#Establecemos la lista_A \n",
        "lista_A = [1, 2, 2, 2, 465, 465, 787, 788, 99, \"mundo\", \"hola mundo\", \"adios mundo\", \"hola mundo\"]"
      ],
      "metadata": {
        "id": "DM0F-dUXp3sH"
      },
      "execution_count": 16,
      "outputs": []
    },
    {
      "cell_type": "code",
      "source": [
        "#Obtención de una lista que contenga elementos unicos de la lista_A, por lo tanto a esta lista la llamaremos Lista_B.\n",
        "lista_B= set (lista_A)\n",
        "# Imprimimos lista_B\n",
        "print (lista_B)"
      ],
      "metadata": {
        "colab": {
          "base_uri": "https://localhost:8080/"
        },
        "id": "lh3gLewYp_Rd",
        "outputId": "ee4562d5-ef69-4b5c-dd55-4a66a7d331b4"
      },
      "execution_count": 17,
      "outputs": [
        {
          "output_type": "stream",
          "name": "stdout",
          "text": [
            "{1, 2, 99, 'mundo', 465, 787, 788, 'adios mundo', 'hola mundo'}\n"
          ]
        }
      ]
    },
    {
      "cell_type": "markdown",
      "metadata": {
        "id": "De8tLSw_pLau"
      },
      "source": [
        "### Ejercicio 2 (4 puntos): Aproximación de $\\pi$\n",
        "Una de las formas más sencillas de calcular $\\pi$ es mediante la siguiente serie infinita de Leibniz:\n",
        "$$\\frac{\\pi}{4} = \\sum_{n=0}^{\\infty}\\frac{(-1)^{n}}{(2n+1)} = \\frac{1}{1} - \\frac{1}{3} + \\frac{1}{5}-\\frac{1}{7}+\\frac{1}{9}-...$$\n",
        "\n",
        "crea un programa para aproximar $\\pi$ utilizando la serie de Leibniz. Usa n = 100000, imprime el valor de tu aproximación tanto el valor de $\\frac{\\pi}{4}$ como $\\pi$.\n",
        "\n",
        "El valor de $\\pi$ se obtiene al despejar:\n",
        "$$\\pi = 4 * \\left(\\sum_{n=0}^{\\infty}\\frac{(-1)^{n}}{(2n+1)} \\right)$$\n",
        "\n",
        "La siguiente celda de codigo ofrece el valor de $\\frac{\\pi}{4}$"
      ]
    },
    {
      "cell_type": "code",
      "execution_count": null,
      "metadata": {
        "id": "zU4FsTY9pLav",
        "outputId": "99c4c636-3bd2-46b4-c704-a751e6963312"
      },
      "outputs": [
        {
          "name": "stdout",
          "output_type": "stream",
          "text": [
            "El valor de pi/4 es aproximadamente 0.7853981633974483\n"
          ]
        }
      ],
      "source": [
        "import numpy as np\n",
        "#El valor de pi/4\n",
        "print(\"El valor de pi/4 es aproximadamente {}\".format(np.pi/4))"
      ]
    },
    {
      "cell_type": "code",
      "source": [
        "#Establecemos una variable el cual va a tener un valor nulo.\n",
        "u=0\n",
        "# En esta parte se establece una serie infinita de Leibniz en un rango de números del 0 al 100001, es decir que empiezan desde 1 y se detienen en el numero menor que 100001, es decir en 100000 \n",
        "for n in range (0,100001):\n",
        "    \n",
        "    h = (((-1)**n)/((2*n)+1))+u\n",
        "    #Se establece a \"u\"  el valor de \"h\" para que al momento que se ejecute el programa el siguiente elemento de la serie se le sume el anterior.\n",
        "    u = h\n",
        "#Se imprime el valor obtenido aproximado de pi/4\n",
        "print (\"El valor aproximado de pi/4 es {}\".format(h))\n",
        "\n",
        "#Para calcular el valor aproximado a pi tenemos que  multiplicar la serie por 4.\n",
        "m = h*4\n",
        "#Se imprime el valor obtenido aproximado de pi\n",
        "print (\"El valor aproximado de pi es {}\".format(m))"
      ],
      "metadata": {
        "id": "Gpd_iv1bXRSn",
        "colab": {
          "base_uri": "https://localhost:8080/"
        },
        "outputId": "d9c5c4b0-6c7e-4ad6-8c68-fffa65b44d9f"
      },
      "execution_count": 18,
      "outputs": [
        {
          "output_type": "stream",
          "name": "stdout",
          "text": [
            "El valor aproximado de pi/4 es 0.7854006633724301\n",
            "El valor aproximado de pi es 3.1416026534897203\n"
          ]
        }
      ]
    },
    {
      "cell_type": "markdown",
      "metadata": {
        "id": "y5QsMICfpLax"
      },
      "source": [
        "### Ejercicio 3 (4 puntos): Sucesión monótona \n",
        "Una sucesión {$a_n$} es una colección de números relacionados entre sí, en la que se tiene en cuenta la posición relativa de cada número respecto al anterior. Por ejemplo, la sucesión $\\frac{1}{n} = 1, 1/2, 1/3, 1/4, ...$ es convergente a cero ya que cuando $n \\rightarrow \\infty$ el valor de $a_n$ se acerca a cero.\n",
        "\n",
        "Una sucesión podemos verla como una lista, tal que así `[1, 1/2, 1/3,1/10000]` (claramente con un valor maximo, pues en python no podemos tener infinitos elementos en una lista).\n",
        "\n",
        "Considera la sucesión $a_n = 3 - \\frac{1}{n}$, crea un programa que haga una lista con los primeros 10 mil terminos de dicha sucesion (no la imprimas).\n",
        "\n",
        "Imprime los últimos 15 elementos de la lista y discute en una celda Markdown si esta sucesión es convergente y hacía que valor converge. Investiga que condición debe cumplir para que una suceción sea monótona creciente y monótona decreciente, con ello responde si es creciente o decreciente.\t"
      ]
    },
    {
      "cell_type": "code",
      "source": [
        "#Creamos una lista vacia\n",
        "o=[]\n",
        "#Se establece una sucecion de numeros que empiezan desde 1 y se detienen en el numero menor que 10001, es decir en 10000 \n",
        "for n in range(1,10001):\n",
        "   # Establecemos nuestra operacion el cual van a pasar los numeros que pertenecen al rango (1,10001)\n",
        "   k= 3 - (1/n)\n",
        "   # En esta parte estamos  definiendo que cada vez que opere la sucesion, el resultado va a ser añadido a la lista vacia que establecimos en el principio.\n",
        "   o.append(k)\n",
        "# Por ultimo en esta parte estamos diciendo que nos imprima los ultimos 15 elementos de nustra lista.\n",
        "print(o[-15:])"
      ],
      "metadata": {
        "colab": {
          "base_uri": "https://localhost:8080/"
        },
        "id": "3ntE05SEGXlo",
        "outputId": "9e4a7328-e90d-42dc-9908-069ac5d5f439"
      },
      "execution_count": 19,
      "outputs": [
        {
          "output_type": "stream",
          "name": "stdout",
          "text": [
            "[2.999899859803725, 2.99989986983078, 2.999899879855827, 2.9998998898788667, 2.9998998998999, 2.999899909918927, 2.999899919935949, 2.9998999299509657, 2.9998999399639783, 2.9998999499749877, 2.9998999599839937, 2.9998999699909974, 2.999899979995999, 2.9998999899989998, 2.9999]\n"
          ]
        }
      ]
    },
    {
      "cell_type": "markdown",
      "metadata": {
        "id": "k6t56nRfpLay"
      },
      "source": [
        "### Ejercicio 4 (1 punto):\n",
        "Crea un ciclo for a modo de que la salida sea la siguiente:\n",
        "\n",
        "10\n",
        "\n",
        "9\n",
        "\n",
        "8\n",
        "\n",
        "7\n",
        "\n",
        "6\n",
        "\n",
        "...\n",
        "\n",
        "2\n",
        "\n",
        "1\n",
        "\n",
        "0\n"
      ]
    },
    {
      "cell_type": "code",
      "source": [
        "# En esta parte estamos estableciendo una serie de numeros que empiezan desde 10 y se detiene en el numero menor que -1 que es el 0, que posteriormente va hacer imprimido.\n",
        "for i in range(10,-1,-1):\n",
        "  print(i)"
      ],
      "metadata": {
        "id": "oR7qcpgBhoYZ",
        "colab": {
          "base_uri": "https://localhost:8080/"
        },
        "outputId": "64911f9f-b14f-4ed7-f2ad-b3aca8412071"
      },
      "execution_count": 20,
      "outputs": [
        {
          "output_type": "stream",
          "name": "stdout",
          "text": [
            "10\n",
            "9\n",
            "8\n",
            "7\n",
            "6\n",
            "5\n",
            "4\n",
            "3\n",
            "2\n",
            "1\n",
            "0\n"
          ]
        }
      ]
    },
    {
      "cell_type": "markdown",
      "metadata": {
        "id": "4EWKxN1jpLaz"
      },
      "source": [
        "### Puntos extras, este ejercicio es opcional (2 puntos):\n",
        "Crea un codigo para calcular el producto punto de dos vectores $\\vec{\\omega}$ y $\\vec{\\eta}$ de dimensión $3$. No vale usar librerias externas, debes hacerlo con ciclos for.\n",
        "\n",
        "Donde $\\vec{\\omega} = (10, 2, -3)$ y $\\vec{\\eta} = (5, -5, 1)$\n",
        "\n",
        "El producto punto de los vectores $\\vec{\\omega}$ y $\\vec{\\eta}$ se define como:\n",
        "$$<\\vec{\\omega},\\vec{\\eta}> = \\vec{\\omega} \\cdot \\vec{\\eta} = \\omega_{1}\\eta_{1} + \\omega_{2}\\eta_{2} + \\omega_{3}\\eta_{3} = 10*5 + 2*(-5) + (-3)*1=37$$"
      ]
    },
    {
      "cell_type": "code",
      "source": [
        "# Se establece dos listas para identificar el valor de nuestros vectores, y se establece un variable.\n",
        "Lista_1=(10,2,-3)\n",
        "Lista_2=(5,-5,1)\n",
        "pe=0"
      ],
      "metadata": {
        "id": "DEoOENVOWABr"
      },
      "execution_count": 21,
      "outputs": []
    },
    {
      "cell_type": "code",
      "source": [
        "\"\"\"En esta parte estamos estableciendo que el primer valor de la lista_1 va a multiplicar al primer valor de la lista_2, posteriormente vuelve a empezar \n",
        "pero con el segundo valor la lista_1 por el segundo valor de la lista_2 y despues va a multiplicar tercer valor la lista_1 por el tercer valor de la lista_2,\n",
        " y el resultado de las tres multiplicaciones van ha ser sumadas, para despues imprimir el valor de esa suma\"\"\"\n",
        "\n",
        "for i in range(len(Lista_1)):\n",
        "  pe+=Lista_1[i] * Lista_2[i]\n",
        "print(pe)\n"
      ],
      "metadata": {
        "colab": {
          "base_uri": "https://localhost:8080/"
        },
        "id": "06sEXUVyavIM",
        "outputId": "e492ed7a-6972-4eed-dc86-b7e17db21b5c"
      },
      "execution_count": 22,
      "outputs": [
        {
          "output_type": "stream",
          "name": "stdout",
          "text": [
            "37\n"
          ]
        }
      ]
    }
  ],
  "metadata": {
    "kernelspec": {
      "display_name": "Python 3.9.13 ('base')",
      "language": "python",
      "name": "python3"
    },
    "language_info": {
      "codemirror_mode": {
        "name": "ipython",
        "version": 3
      },
      "file_extension": ".py",
      "mimetype": "text/x-python",
      "name": "python",
      "nbconvert_exporter": "python",
      "pygments_lexer": "ipython3",
      "version": "3.9.13"
    },
    "orig_nbformat": 4,
    "vscode": {
      "interpreter": {
        "hash": "ad2bdc8ecc057115af97d19610ffacc2b4e99fae6737bb82f5d7fb13d2f2c186"
      }
    },
    "colab": {
      "provenance": []
    }
  },
  "nbformat": 4,
  "nbformat_minor": 0
}