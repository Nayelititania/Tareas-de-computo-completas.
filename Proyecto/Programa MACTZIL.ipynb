{
 "cells": [
  {
   "cell_type": "code",
   "execution_count": 16,
   "id": "54de3d74",
   "metadata": {},
   "outputs": [],
   "source": [
    "def MACTZIL(a,b,c,d):\n",
    "    \n",
    "    if a==0 and b==0: #Si la ec. es de primer grado, se usa fórmula para la ec. de primer grado\n",
    "        \n",
    "        x = -d/c \n",
    "        print(\"La raíz es: {}\".format(x)) #Se imprime \"La raíz es x\".\n",
    "    \n",
    "    \n",
    "    \n",
    "    elif a==0: #Si la ec. es cuadrática, se procede a usar la fórmula de Bhaskara.\n",
    "        \n",
    "        x1 = ( -c +( (c**2 -(4*b*d))**(1/2) ) ) / (2*b) #A la posibilidad positiva de la fórmula se le asigna el valor x1.\n",
    "        x2 = ( -c -( (c**2 -(4*b*d))**(1/2) ) ) / (2*b) #A la posibilidad negativa de la fórmula se le asigna el valor x2.\n",
    "        \n",
    "        print(\"Las raicez son: {} y {}\".format(x1,x2)) #Se imprime \"Las raices son x1, x2\".\n",
    "    \n",
    "    \n",
    "    \n",
    "    elif b==0: #Si la ec. es una cúbica reducida, se procede a usar la fórmula de Cardano.\n",
    "        \n",
    "        #Se calculan los coeficientes \"p\" y \"q\" cuando se obliga el valor de a=1.\n",
    "        p = c/a\n",
    "        q = d/a\n",
    "        \n",
    "        #Se dan a los valores \"u\" y \"v\" correspondientes según la fórmula de Cardano.\n",
    "        u = ( -(q/2) +( ( ( (q**2)/4) + ((p**3)/27) )**(1/2) ) )**(1/3)\n",
    "        v = ( -(q/2) -( ( ( (q**2)/4) + ((p**3)/27) )**(1/2) ) )**(1/3)\n",
    "        \n",
    "        #Se calculan todas las raíces según sus fórmula dadas por Cardano.\n",
    "        z1 = u+v\n",
    "        z2 = ( (-1/2)*(z1) ) + ( (1j)*( ((3**(1/2))/2)*(u-v) ) )\n",
    "        z3 = ( (-1/2)*(z1) ) - ( (1j)*( ((3**(1/2))/2)*(u-v) ) )\n",
    "        \n",
    "        #Se imprimen las raíces junto con un mensaje de advertencia.\n",
    "        print (\"Las raices son: {}, {} y {}\".format(z1,z2,z3))\n",
    "        print (\"Debido al uso de varias raíces para la obtención de la fórmula, es posible que los valores proporcionados sean muy aproximados, pero no iguales, o directamente incorrectos.\")\n",
    "        \n",
    "    else: #Si la ec. es una cúbica, se procede a usar la fórmula de cardano mediante la reducción de a cúbica reducida.\n",
    "        \n",
    "        #Se calculan los coeficientes \"p\" y \"q\" para la forma reducida.\n",
    "        p = ( (3*a*c) - (b**2) )/( 3*(a**2) )\n",
    "        q = ( (3*(b**3)) - (9*a*b*c) + (27*(a**2)*d) )/( (27*(a**3)) )\n",
    "        \n",
    "        #Se dan a los valores \"u\" y \"v\" correspondientes según la fórmula de Cardano.\n",
    "        u = ( -(q/2) +( ( ( (q**2)/4) + ((p**3)/27) )**(1/2) ) )**(1/3)\n",
    "        v = ( -(q/2) -( ( ( (q**2)/4) + ((p**3)/27) )**(1/2) ) )**(1/3)\n",
    "        \n",
    "        #Se calculan todas las raíces según sus fórmula dadas por Cardano (con su moficación para ser más exacto).\n",
    "        z1 = u+v -(b/(3*a))\n",
    "        z2 = ( (-1/2)*(u+v) -(b/(3*a)) ) + ( (1j)*( ((3**(1/2))/2)*(u-v) ) )\n",
    "        z3 = ( (-1/2)*(u+v) -(b/(3*a)) ) - ( (1j)*( ((3**(1/2))/2)*(u-v) ) )\n",
    "        \n",
    "        #Se imprimen las raíces junto con un mensaje de advertencia.\n",
    "        print (\"Las raices son: {}, {} y {}\".format(z1,z2,z3))\n",
    "        print (\"Debido al uso de varias raíces para la obtención de la fórmula, es posible que los valores proporcionados sean muy aproximados, pero no iguales, o directamente incorrectos.\")"
   ]
  },
  {
   "cell_type": "code",
   "execution_count": 17,
   "id": "6a835c64",
   "metadata": {},
   "outputs": [
    {
     "name": "stdout",
     "output_type": "stream",
     "text": [
      "Las raices son: 3.0, (-1.5+1.322875655532295j) y (-1.5-1.322875655532295j)\n",
      "Debido al uso de varias raíces para la obtención de la fórmula, es posible que los valores proporcionados sean muy aproximados, pero no iguales, o directamente incorrectos.\n",
      "Las raicez son: (0.6374586088176875-0.36254139118231254j) y (-3.1374586088176875-4.1374586088176875j)\n"
     ]
    }
   ],
   "source": [
    "###Cálculos de ejemplo correctos.\n",
    "\n",
    "MACTZIL(1,0,-5,-12)\n",
    "#Todas las raíces son correctas en este caso :3\n",
    "\n",
    "\n",
    "MACTZIL(0,1-1j,7+2j,-5+2j)\n",
    "#Todas las raíces son correctas :3"
   ]
  },
  {
   "cell_type": "code",
   "execution_count": 18,
   "id": "72a144d1",
   "metadata": {},
   "outputs": [
    {
     "name": "stdout",
     "output_type": "stream",
     "text": [
      "Las raices son: 5.07017731359037, (-0.5350886567951849+1.7719110774116484j) y (-0.5350886567951849-1.7719110774116484j)\n",
      "Debido al uso de varias raíces para la obtención de la fórmula, es posible que los valores proporcionados sean muy aproximados, pero no iguales, o directamente incorrectos.\n",
      "Las raices son: (1.8793852415718169-1.1102230246251565e-16j), (-1.532088886237956+1.5165928555043602e-16j) y (-0.34729635533386083-4.0636983087920364e-17j)\n",
      "Debido al uso de varias raíces para la obtención de la fórmula, es posible que los valores proporcionados sean muy aproximados, pero no iguales, o directamente incorrectos.\n"
     ]
    }
   ],
   "source": [
    "###Cálculos de ejemplo aproximados.\n",
    "\n",
    "MACTZIL(1,-4,-2,-15)\n",
    "#La primera raíz es bastante aproximada, y las otras dos tienen una buena aproximación por la parte imaginaria.\n",
    "#Sus raíces verdaderas son: 5, -0.5+1.65831235j, -0.5-1.65831235j.\n",
    "\n",
    "\n",
    "MACTZIL(1,0,-3,-1)\n",
    "#Todos los valores reales dados son iguales... El único detalle es que las raíces verdaderas no tienen parte imaginaria xd."
   ]
  },
  {
   "cell_type": "code",
   "execution_count": 20,
   "id": "953ad684",
   "metadata": {},
   "outputs": [
    {
     "name": "stdout",
     "output_type": "stream",
     "text": [
      "Las raices son: (0.3694244055672053+0.8011365621898255j), (0.009092411973318115-0.5930987886907605j) y (-1.3785168175405231-0.20803777349906502j)\n",
      "Debido al uso de varias raíces para la obtención de la fórmula, es posible que los valores proporcionados sean muy aproximados, pero no iguales, o directamente incorrectos.\n",
      "Las raices son: (1.0787302044300984+0.7356862075550319j), (0.09775784274143962-0.16932155046650205j) y (-1.176488047171538-0.5663646570885299j)\n",
      "Debido al uso de varias raíces para la obtención de la fórmula, es posible que los valores proporcionados sean muy aproximados, pero no iguales, o directamente incorrectos.\n"
     ]
    }
   ],
   "source": [
    "###Cálculos de ejemplo incorrectos.\n",
    "\n",
    "MACTZIL(1,1,1,1)\n",
    "#Ningun valor es correcto. Sus raíces verdaderas son: -1, j, -j.\n",
    "\n",
    "\n",
    "MACTZIL(3,0,5,1)\n",
    "#El valor real e imaginario de la segunda raíz es un buen aproximado, pero como la mayoría no, pues aquí está.\n",
    "#Sus raíces verdaderas son:-0.195515685, 0.097757842+1.302050865j, 0.097757842-1.302050865j."
   ]
  }
 ],
 "metadata": {
  "kernelspec": {
   "display_name": "Python 3 (ipykernel)",
   "language": "python",
   "name": "python3"
  },
  "language_info": {
   "codemirror_mode": {
    "name": "ipython",
    "version": 3
   },
   "file_extension": ".py",
   "mimetype": "text/x-python",
   "name": "python",
   "nbconvert_exporter": "python",
   "pygments_lexer": "ipython3",
   "version": "3.9.13"
  }
 },
 "nbformat": 4,
 "nbformat_minor": 5
}
